{
 "cells": [
  {
   "cell_type": "code",
   "execution_count": 1,
   "metadata": {},
   "outputs": [
    {
     "name": "stdout",
     "output_type": "stream",
     "text": [
      "c:\\Users\\mathi\\Documents\\2. Skole\\Master\\2. Semester\\TEP4222 Kryssløpsanalyse, handel og miljø\\Project\\Input-Output\n",
      "c:\\Users\\mathi\\Documents\\2. Skole\\Master\\2. Semester\\TEP4222 Kryssløpsanalyse, handel og miljø\\Project\n"
     ]
    }
   ],
   "source": [
    "# Change directory to the parent folder to access the dataset\n",
    "import os\n",
    "os.chdir('../')\n",
    "print(os.getcwd())\n",
    "\n",
    "os.chdir('../')\n",
    "print(os.getcwd())\n",
    "\n",
    "\n",
    "import pandas as pd\n",
    "import numpy as np\n",
    "import matplotlib.pyplot as plt"
   ]
  },
  {
   "cell_type": "code",
   "execution_count": null,
   "metadata": {},
   "outputs": [],
   "source": []
  }
 ],
 "metadata": {
  "kernelspec": {
   "display_name": "TEP4222",
   "language": "python",
   "name": "python3"
  },
  "language_info": {
   "codemirror_mode": {
    "name": "ipython",
    "version": 3
   },
   "file_extension": ".py",
   "mimetype": "text/x-python",
   "name": "python",
   "nbconvert_exporter": "python",
   "pygments_lexer": "ipython3",
   "version": "3.13.1"
  }
 },
 "nbformat": 4,
 "nbformat_minor": 2
}
